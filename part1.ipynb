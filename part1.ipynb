{
 "cells": [
  {
   "cell_type": "code",
   "execution_count": 309,
   "id": "a8b8aac5-9bff-4f6b-bfd2-56477245bf86",
   "metadata": {},
   "outputs": [
    {
     "name": "stdout",
     "output_type": "stream",
     "text": [
      "Collecting scikit-image\n",
      "  Downloading scikit_image-0.19.3-cp39-cp39-manylinux_2_17_x86_64.manylinux2014_x86_64.whl (14.0 MB)\n",
      "\u001b[2K     \u001b[90m━━━━━━━━━━━━━━━━━━━━━━━━━━━━━━━━━━━━━━━━\u001b[0m \u001b[32m14.0/14.0 MB\u001b[0m \u001b[31m43.5 MB/s\u001b[0m eta \u001b[36m0:00:00\u001b[0m00:01\u001b[0m00:01\u001b[0m\n",
      "\u001b[?25hRequirement already satisfied: packaging>=20.0 in /opt/conda/lib/python3.9/site-packages (from scikit-image) (21.3)\n",
      "Requirement already satisfied: networkx>=2.2 in /opt/conda/lib/python3.9/site-packages (from scikit-image) (2.8.8)\n",
      "Collecting tifffile>=2019.7.26\n",
      "  Downloading tifffile-2023.1.23.1-py3-none-any.whl (214 kB)\n",
      "\u001b[2K     \u001b[90m━━━━━━━━━━━━━━━━━━━━━━━━━━━━━━━━━━━━━━━\u001b[0m \u001b[32m214.8/214.8 kB\u001b[0m \u001b[31m4.6 MB/s\u001b[0m eta \u001b[36m0:00:00\u001b[0ma \u001b[36m0:00:01\u001b[0m\n",
      "\u001b[?25hRequirement already satisfied: imageio>=2.4.1 in /opt/conda/lib/python3.9/site-packages (from scikit-image) (2.25.0)\n",
      "Requirement already satisfied: scipy>=1.4.1 in /opt/conda/lib/python3.9/site-packages (from scikit-image) (1.10.0)\n",
      "Requirement already satisfied: numpy>=1.17.0 in /opt/conda/lib/python3.9/site-packages (from scikit-image) (1.23.5)\n",
      "Requirement already satisfied: pillow!=7.1.0,!=7.1.1,!=8.3.0,>=6.1.0 in /opt/conda/lib/python3.9/site-packages (from scikit-image) (9.4.0)\n",
      "Collecting PyWavelets>=1.1.1\n",
      "  Downloading PyWavelets-1.4.1-cp39-cp39-manylinux_2_17_x86_64.manylinux2014_x86_64.whl (6.9 MB)\n",
      "\u001b[2K     \u001b[90m━━━━━━━━━━━━━━━━━━━━━━━━━━━━━━━━━━━━━━━━\u001b[0m \u001b[32m6.9/6.9 MB\u001b[0m \u001b[31m41.7 MB/s\u001b[0m eta \u001b[36m0:00:00\u001b[0m:00:01\u001b[0m\n",
      "\u001b[?25hRequirement already satisfied: pyparsing!=3.0.5,>=2.0.2 in /opt/conda/lib/python3.9/site-packages (from packaging>=20.0->scikit-image) (3.0.7)\n",
      "Installing collected packages: tifffile, PyWavelets, scikit-image\n",
      "Successfully installed PyWavelets-1.4.1 scikit-image-0.19.3 tifffile-2023.1.23.1\n"
     ]
    }
   ],
   "source": [
    "!pip install scikit-image\n"
   ]
  },
  {
   "cell_type": "code",
   "execution_count": 19,
   "id": "0900d10c-5bcb-4d8a-a9fd-842d84e6d84e",
   "metadata": {},
   "outputs": [],
   "source": [
    "#ionq env\n",
    "import os\n",
    "import qiskit\n",
    "from qiskit.visualization import plot_histogram, plot_bloch_vector, array_to_latex\n",
    "import numpy as np\n",
    "import json\n",
    "from math import pi, sqrt\n",
    "from qiskit_ionq import IonQProvider\n",
    "from matplotlib import pyplot as plt\n",
    "import base64"
   ]
  },
  {
   "cell_type": "code",
   "execution_count": 27,
   "id": "9f3e6b8a-d8bd-4c91-8a6c-89d09ad6741b",
   "metadata": {},
   "outputs": [
    {
     "name": "stdout",
     "output_type": "stream",
     "text": [
      "(28, 28)\n",
      "[0.         0.         0.         0.         0.         0.\n",
      " 0.         0.         0.00059977 0.00138408 0.00207612 0.00307574\n",
      " 0.00202999 0.00092272 0.00098424 0.00127643 0.0028143  0.00299885\n",
      " 0.00149173 0.00044598 0.         0.         0.         0.\n",
      " 0.         0.         0.         0.        ]\n",
      "True\n"
     ]
    }
   ],
   "source": [
    "images = np.load(\"./data/images.npy\")\n",
    "labels = np.load(\"./data/labels.npy\")\n",
    "\n",
    "# plt.imshow(images[0])\n",
    "print(images[0].shape)\n",
    "print(images[0][0])\n",
    "print(labels[0])"
   ]
  },
  {
   "cell_type": "code",
   "execution_count": 72,
   "id": "967958c7-41f8-44a4-9d04-f906f39b4f10",
   "metadata": {},
   "outputs": [],
   "source": [
    "def encode_qiskit(image,cIndex):\n",
    "    qc = qiskit.QuantumCircuit(3)\n",
    "    for i in range(len(image)):\n",
    "        t = np.unique(image[i], return_index=True)\n",
    "        # print(t)\n",
    "        if labels[cIndex] == False:\n",
    "            qc.x(0)\n",
    "    return qc"
   ]
  },
  {
   "cell_type": "code",
   "execution_count": 73,
   "id": "3a8f3428-cd8f-4c26-8eb1-54bd62199407",
   "metadata": {},
   "outputs": [],
   "source": [
    "sim = qiskit.Aer.get_backend(\"statevector_simulator\")\n",
    "hist = dict()\n",
    "for i in range(len(images)):\n",
    "    t = encode_qiskit(images[i], i)\n",
    "    obj = qiskit.assemble(t)\n",
    "    res = sim.run(obj).result().get_statevector()\n",
    "    \n",
    "    hist[i] = np.float_(np.asarray(res).real)"
   ]
  },
  {
   "cell_type": "code",
   "execution_count": null,
   "id": "09d007b3-ed2c-4ac1-a861-36a64eb0c134",
   "metadata": {},
   "outputs": [],
   "source": []
  }
 ],
 "metadata": {
  "kernelspec": {
   "display_name": "Python 3 [IonQ]",
   "language": "python",
   "name": "python3_ionq_6vdluz"
  },
  "language_info": {
   "codemirror_mode": {
    "name": "ipython",
    "version": 3
   },
   "file_extension": ".py",
   "mimetype": "text/x-python",
   "name": "python",
   "nbconvert_exporter": "python",
   "pygments_lexer": "ipython3",
   "version": "3.9.10"
  }
 },
 "nbformat": 4,
 "nbformat_minor": 5
}
